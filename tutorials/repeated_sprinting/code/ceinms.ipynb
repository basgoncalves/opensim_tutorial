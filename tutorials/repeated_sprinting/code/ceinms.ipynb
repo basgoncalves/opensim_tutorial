{
 "cells": [
  {
   "cell_type": "markdown",
   "metadata": {},
   "source": [
    "## CEINMS calibration run"
   ]
  },
  {
   "cell_type": "code",
   "execution_count": null,
   "metadata": {},
   "outputs": [],
   "source": [
    "import msk_modelling_python as msk\n",
    "import subprocess\n",
    "import os\n",
    "\n",
    "code_path = os.getcwd()\n",
    "xml_setup_file = os.path.join(os.path.dirname(code_path), 'Simulations', '009_simplified', 'run_baseline', 'ceinms')\n",
    "ceinms_install_path = os.path.join(msk.__path__[0], 'src', 'ceinms2', 'src')\n",
    "command = \" \".join([ceinms_install_path + \"\\CEINMScalibrate.exe -S\", xml_setup_file])\n",
    "print(command)\n",
    "result = subprocess.run(command, capture_output=True, text=True, check=True)"
   ]
  }
 ],
 "metadata": {
  "kernelspec": {
   "display_name": "msk_modelling",
   "language": "python",
   "name": "python3"
  },
  "language_info": {
   "name": "python",
   "version": "3.8.10"
  }
 },
 "nbformat": 4,
 "nbformat_minor": 2
}
