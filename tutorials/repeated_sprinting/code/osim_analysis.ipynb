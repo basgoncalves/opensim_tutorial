{
 "cells": [
  {
   "cell_type": "code",
   "execution_count": null,
   "metadata": {},
   "outputs": [],
   "source": [
    "# Import necessary OpenSim libraries\n",
    "import msk_modelling_python as msk\n",
    "msk.bops.path\n",
    "settings = msk.bops.settings\n",
    "print(settings['subjects'])"
   ]
  },
  {
   "cell_type": "code",
   "execution_count": null,
   "metadata": {},
   "outputs": [],
   "source": [
    "\n",
    "# Load the model\n",
    "model = msk.osim.Model('path_to_your_model.osim')\n",
    "\n",
    "# Load the .c3d file\n",
    "c3d_file = 'path_to_your_file.c3d'\n",
    "c3d_tool = osim.C3DFileAdapter()\n",
    "tables = c3d_tool.read(c3d_file)\n",
    "\n",
    "# Extract marker and force data\n",
    "marker_table = tables.get('markers')\n",
    "force_table = tables.get('forces')\n",
    "\n",
    "# Create a storage object for the marker data\n",
    "marker_storage = osim.Storage()\n",
    "marker_storage.setData(marker_table)\n",
    "\n",
    "# Create a storage object for the force data\n",
    "force_storage = osim.Storage()\n",
    "force_storage.setData(force_table)\n",
    "\n",
    "# Perform inverse kinematics\n",
    "ik_tool = osim.InverseKinematicsTool()\n",
    "ik_tool.setModel(model)\n",
    "ik_tool.setMarkerDataFileName('path_to_marker_storage.sto')\n",
    "ik_tool.setOutputMotionFileName('ik_output.mot')\n",
    "ik_tool.run()\n",
    "\n",
    "# Perform inverse dynamics\n",
    "id_tool = osim.InverseDynamicsTool()\n",
    "id_tool.setModel(model)\n",
    "id_tool.setCoordinatesFileName('ik_output.mot')\n",
    "id_tool.setExternalLoadsFileName('path_to_external_loads.xml')\n",
    "id_tool.setOutputGenForceFileName('id_output.sto')\n",
    "id_tool.run()\n",
    "\n",
    "# Perform joint reaction analysis\n",
    "jra_tool = osim.JointReaction()\n",
    "jra_tool.setModel(model)\n",
    "jra_tool.setCoordinatesFileName('ik_output.mot')\n",
    "jra_tool.setForcesFileName('id_output.sto')\n",
    "jra_tool.setOutputFileName('jra_output.sto')\n",
    "jra_tool.run()"
   ]
  }
 ],
 "metadata": {
  "kernelspec": {
   "display_name": "msk_modelling",
   "language": "python",
   "name": "python3"
  },
  "language_info": {
   "codemirror_mode": {
    "name": "ipython",
    "version": 3
   },
   "file_extension": ".py",
   "mimetype": "text/x-python",
   "name": "python",
   "nbconvert_exporter": "python",
   "pygments_lexer": "ipython3",
   "version": "3.8.10"
  }
 },
 "nbformat": 4,
 "nbformat_minor": 2
}
