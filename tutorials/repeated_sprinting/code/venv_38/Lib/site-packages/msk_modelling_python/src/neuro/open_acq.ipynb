{
 "cells": [
  {
   "cell_type": "code",
   "execution_count": 1,
   "metadata": {},
   "outputs": [],
   "source": [
    "import bioread\n",
    "import matplotlib.pyplot as plt\n",
    "import os\n",
    "import pandas as pd\n",
    "import numpy as np\n",
    "import tkinter as tk\n",
    "from tkinter import*\n",
    "from tkinter import filedialog\n",
    "\n",
    "def load_acq():\n",
    "\n",
    "    # Create Tk root\n",
    "    root = Tk()\n",
    "    # Hide the main window\n",
    "    root.withdraw()\n",
    "    root.call('wm', 'attributes', '.', '-topmost', True)\n",
    "\n",
    "    file_path = filedialog.askopenfilename()\n",
    "\n",
    "    if not os.path.exists(file_path):\n",
    "        print('File not found')\n",
    "        exit(1)\n",
    "\n",
    "\n",
    "    data = bioread.read_file(file_path)\n",
    "    emg_data = data.channels[0].data\n",
    "    fs = data.samples_per_second\n",
    "\n",
    "    print('file path: ', file_path)\n",
    "    print('EMG data:', emg_data)\n",
    "    print('EMG data type:', type(emg_data))\n",
    "    print('sampling rate:', fs)\n",
    "\n",
    "\n",
    "    return file_path, emg_data, fs\n"
   ]
  }
 ],
 "metadata": {
  "kernelspec": {
   "display_name": "Python 3",
   "language": "python",
   "name": "python3"
  },
  "language_info": {
   "codemirror_mode": {
    "name": "ipython",
    "version": 3
   },
   "file_extension": ".py",
   "mimetype": "text/x-python",
   "name": "python",
   "nbconvert_exporter": "python",
   "pygments_lexer": "ipython3",
   "version": "3.8.10"
  }
 },
 "nbformat": 4,
 "nbformat_minor": 2
}
