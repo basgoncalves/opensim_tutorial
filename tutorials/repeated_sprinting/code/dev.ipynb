{
 "cells": [
  {
   "cell_type": "code",
   "execution_count": 1,
   "metadata": {},
   "outputs": [],
   "source": [
    "import opensim as osim\n",
    "import numpy as np\n",
    "import os"
   ]
  },
  {
   "cell_type": "code",
   "execution_count": 2,
   "metadata": {},
   "outputs": [
    {
     "name": "stdout",
     "output_type": "stream",
     "text": [
      "Path exists:  /Users/leonlobe/Documents/GitHub/Fatigue-prediction-MSC-Thesis\n",
      "Path exists:  /Users/leonlobe/Documents/GitHub/Fatigue-prediction-MSC-Thesis/code\n",
      "Path exists:  /Users/leonlobe/Documents/GitHub/Fatigue-prediction-MSC-Thesis/simulations\n"
     ]
    }
   ],
   "source": [
    "\n",
    "current_dir = os.getcwd()\n",
    "if current_dir.endswith(\"code\"):\n",
    "    os.chdir(\"..\")\n",
    "    os.getcwd()\n",
    "\n",
    "main_path = os.getcwd()\n",
    "code_path = main_path + \"/code\"\n",
    "simulations_path = main_path + \"/simulations\"\n",
    "\n",
    "def check_path(path):\n",
    "    if not os.path.exists(path):\n",
    "        print(\"Path does not exist: \", path)\n",
    "    else:\n",
    "        print(\"Path exists: \", path)\n",
    "        \n",
    "        \n",
    "check_path(main_path)\n",
    "check_path(code_path)\n",
    "check_path(simulations_path)\n"
   ]
  },
  {
   "cell_type": "code",
   "execution_count": 3,
   "metadata": {},
   "outputs": [
    {
     "name": "stdout",
     "output_type": "stream",
     "text": [
      "Path exists:  /Users/leonlobe/Documents/GitHub/Fatigue-prediction-MSC-Thesis/simulations/009/scaled_models/009_Rajagopal2015_FAI_v4.osim\n",
      "[info] Updating Model file from 40000 to latest format...\n",
      "[info] Loaded model 009 from file /Users/leonlobe/Documents/GitHub/Fatigue-prediction-MSC-Thesis/simulations/009/scaled_models/009_Rajagopal2015_FAI_v4.osim\n",
      "[warning] Couldn't find file 'Raja\\r_pelvis.vtp'.\n",
      "[warning] Couldn't find file 'Raja\\l_pelvis.vtp'.\n",
      "[warning] Couldn't find file 'Raja\\sacrum.vtp'.\n",
      "[warning] Couldn't find file 'Raja\\r_femur.vtp'.\n",
      "[warning] Couldn't find file 'Raja\\r_tibia.vtp'.\n",
      "[warning] Couldn't find file 'Raja\\r_fibula.vtp'.\n",
      "[warning] Couldn't find file 'Raja\\r_patella.vtp'.\n",
      "[warning] Couldn't find file 'Raja\\r_talus.vtp'.\n",
      "[warning] Couldn't find file 'Raja\\r_foot.vtp'.\n",
      "[warning] Couldn't find file 'Raja\\r_bofoot.vtp'.\n",
      "[warning] Couldn't find file 'Raja\\l_femur.vtp'.\n",
      "[warning] Couldn't find file 'Raja\\l_tibia.vtp'.\n",
      "[warning] Couldn't find file 'Raja\\l_fibula.vtp'.\n",
      "[warning] Couldn't find file 'Raja\\l_patella.vtp'.\n",
      "[warning] Couldn't find file 'Raja\\l_talus.vtp'.\n",
      "[warning] Couldn't find file 'Raja\\l_foot.vtp'.\n",
      "[warning] Couldn't find file 'Raja\\l_bofoot.vtp'.\n",
      "[warning] Couldn't find file 'Raja\\hat_spine.vtp'.\n",
      "[warning] Couldn't find file 'Raja\\hat_jaw.vtp'.\n",
      "[warning] Couldn't find file 'Raja\\hat_skull.vtp'.\n",
      "[warning] Couldn't find file 'Raja\\hat_ribs_scap.vtp'.\n",
      "[warning] Couldn't find file 'Raja\\humerus_rv.vtp'.\n",
      "[warning] Couldn't find file 'Raja\\ulna_rv.vtp'.\n",
      "[warning] Couldn't find file 'Raja\\radius_rv.vtp'.\n",
      "[warning] Couldn't find file 'Raja\\pisiform_rvs.vtp'.\n",
      "[warning] Couldn't find file 'Raja\\lunate_rvs.vtp'.\n",
      "[warning] Couldn't find file 'Raja\\scaphoid_rvs.vtp'.\n",
      "[warning] Couldn't find file 'Raja\\triquetrum_rvs.vtp'.\n",
      "[warning] Couldn't find file 'Raja\\hamate_rvs.vtp'.\n",
      "[warning] Couldn't find file 'Raja\\capitate_rvs.vtp'.\n",
      "[warning] Couldn't find file 'Raja\\trapezoid_rvs.vtp'.\n",
      "[warning] Couldn't find file 'Raja\\trapezium_rvs.vtp'.\n",
      "[warning] Couldn't find file 'Raja\\metacarpal2_rvs.vtp'.\n",
      "[warning] Couldn't find file 'Raja\\index_proximal_rvs.vtp'.\n",
      "[warning] Couldn't find file 'Raja\\index_medial_rvs.vtp'.\n",
      "[warning] Couldn't find file 'Raja\\index_distal_rvs.vtp'.\n",
      "[warning] Couldn't find file 'metacarpal3_rvs.vtp'.\n",
      "[warning] Couldn't find file 'Raja\\middle_proximal_rvs.vtp'.\n",
      "[warning] Couldn't find file 'middle_medial_rvs.vtp'.\n",
      "[warning] Couldn't find file 'Raja\\middle_distal_rvs.vtp'.\n",
      "[warning] Couldn't find file 'Raja\\metacarpal4_rvs.vtp'.\n",
      "[warning] Couldn't find file 'Raja\\ring_proximal_rvs.vtp'.\n",
      "[warning] Couldn't find file 'Raja\\ring_medial_rvs.vtp'.\n",
      "[warning] Couldn't find file 'Raja\\ring_distal_rvs.vtp'.\n",
      "[warning] Couldn't find file 'Raja\\metacarpal5_rvs.vtp'.\n",
      "[warning] Couldn't find file 'Raja\\little_proximal_rvs.vtp'.\n",
      "[warning] Couldn't find file 'Raja\\little_medial_rvs.vtp'.\n",
      "[warning] Couldn't find file 'Raja\\little_distal_rvs.vtp'.\n",
      "[warning] Couldn't find file 'Raja\\metacarpal1_rvs.vtp'.\n",
      "[warning] Couldn't find file 'Raja\\thumb_proximal_rvs.vtp'.\n",
      "[warning] Couldn't find file 'Raja\\thumb_distal_rvs.vtp'.\n",
      "[warning] Couldn't find file 'Raja\\humerus_lv.vtp'.\n",
      "[warning] Couldn't find file 'Raja\\ulna_lv.vtp'.\n",
      "[warning] Couldn't find file 'Raja\\radius_lv.vtp'.\n",
      "[warning] Couldn't find file 'Raja\\pisiform_lvs.vtp'.\n",
      "[warning] Couldn't find file 'Raja\\lunate_lvs.vtp'.\n",
      "[warning] Couldn't find file 'Raja\\scaphoid_lvs.vtp'.\n",
      "[warning] Couldn't find file 'Raja\\triquetrum_lvs.vtp'.\n",
      "[warning] Couldn't find file 'Raja\\hamate_lvs.vtp'.\n",
      "[warning] Couldn't find file 'Raja\\capitate_lvs.vtp'.\n",
      "[warning] Couldn't find file 'Raja\\trapezoid_lvs.vtp'.\n",
      "[warning] Couldn't find file 'Raja\\trapezium_lvs.vtp'.\n",
      "[warning] Couldn't find file 'Raja\\metacarpal2_lvs.vtp'.\n",
      "[warning] Couldn't find file 'Raja\\index_proximal_lvs.vtp'.\n",
      "[warning] Couldn't find file 'Raja\\index_medial_lvs.vtp'.\n",
      "[warning] Couldn't find file 'Raja\\index_distal_lvs.vtp'.\n",
      "[warning] Couldn't find file 'Raja\\metacarpal3_lvs.vtp'.\n",
      "[warning] Couldn't find file 'Raja\\middle_proximal_lvs.vtp'.\n",
      "[warning] Couldn't find file 'Raja\\middle_medial_lvs.vtp'.\n",
      "[warning] Couldn't find file 'Raja\\middle_distal_lvs.vtp'.\n",
      "[warning] Couldn't find file 'Raja\\metacarpal4_lvs.vtp'.\n",
      "[warning] Couldn't find file 'Raja\\ring_proximal_lvs.vtp'.\n",
      "[warning] Couldn't find file 'Raja\\ring_medial_lvs.vtp'.\n",
      "[warning] Couldn't find file 'Raja\\ring_distal_lvs.vtp'.\n",
      "[warning] Couldn't find file 'Raja\\metacarpal5_lvs.vtp'.\n",
      "[warning] Couldn't find file 'Raja\\little_proximal_lvs.vtp'.\n",
      "[warning] Couldn't find file 'Raja\\little_medial_lvs.vtp'.\n",
      "[warning] Couldn't find file 'Raja\\little_distal_lvs.vtp'.\n",
      "[warning] Couldn't find file 'Raja\\metacarpal1_lvs.vtp'.\n",
      "[warning] Couldn't find file 'Raja\\thumb_proximal_lvs.vtp'.\n",
      "[warning] Couldn't find file 'Raja\\thumb_distal_lvs.vtp'.\n"
     ]
    }
   ],
   "source": [
    "subject_id = \"009\"\n",
    "trial_name = \"Run_baselineA1_copy\"\n",
    "\n",
    "model_path = os.path.join(simulations_path, subject_id, \"scaled_models\", \"009_Rajagopal2015_FAI_v4.osim\")\n",
    "check_path(model_path)\n",
    "\n",
    "model = osim.Model(model_path)"
   ]
  },
  {
   "cell_type": "code",
   "execution_count": 4,
   "metadata": {},
   "outputs": [
    {
     "data": {
      "text/plain": [
       "<opensim.simbody.State; proxy of <Swig Object of type 'SimTK::State *' at 0x1660e71b0> >"
      ]
     },
     "execution_count": 4,
     "metadata": {},
     "output_type": "execute_result"
    }
   ],
   "source": [
    "model.initSystem()"
   ]
  },
  {
   "cell_type": "code",
   "execution_count": 46,
   "metadata": {},
   "outputs": [],
   "source": [
    "folder = \"simulations/009/Run_baselineA1_LL1\""
   ]
  },
  {
   "cell_type": "code",
   "execution_count": 53,
   "metadata": {},
   "outputs": [
    {
     "name": "stdout",
     "output_type": "stream",
     "text": [
      "[info] Storage: read data file = simulations/009/Run_baselineA1_copy/IK.mot (nr=100 nc=40)\n"
     ]
    }
   ],
   "source": [
    "# exclude = osim.ArrayStr()\n",
    "# exclude.append('Muscles')\n",
    "# IKData = osim.Storage(\"simulations/009/Run_baselineA1_copy/IK.mot\")"
   ]
  },
  {
   "cell_type": "code",
   "execution_count": 55,
   "metadata": {},
   "outputs": [],
   "source": [
    "id_tool = osim.InverseDynamicsTool()\n",
    "id_tool.setModel(model)\n",
    "id_tool.setCoordinatesFileName(\"simulations/009/Run_baselineA1_copy/IK.mot\")\n",
    "id_tool.setExternalLoadsFileName(\"simulations/009/Run_baselineA1_copy/externalloads.xml\")\n",
    "id_tool.setOutputGenForceFileName(\"simulations/009/Run_baselineA1_copy/ID.sto\")\n",
    "id_tool.setLowpassCutoffFrequency(6)\n",
    "id_tool.setStartTime(IKData.getFirstTime())\n",
    "id_tool.setEndTime(IKData.getLastTime())\n",
    "id_tool.setExcludedForces(exclude)\n",
    "id_tool.setResultsDir(folder)\n",
    "id_tool.printToXML(os.path.join(folder, \"externalloads_py.xml\"))"
   ]
  },
  {
   "cell_type": "code",
   "execution_count": 56,
   "metadata": {},
   "outputs": [
    {
     "name": "stdout",
     "output_type": "stream",
     "text": [
      "\n",
      "               MODEL: 009\n",
      "         coordinates: 39\n",
      "              forces: 97\n",
      "           actuators: 97\n",
      "             muscles: 80\n",
      "            analyses: 0\n",
      "              probes: 0\n",
      "              bodies: 22\n",
      "              joints: 22\n",
      "         constraints: 2\n",
      "             markers: 67\n",
      "         controllers: 0\n",
      "  contact geometries: 0\n",
      "misc modelcomponents: 0\n",
      "[info] Running tool ...\n",
      "[info] Old version storage/motion file encountered\n",
      "[info] Storage: read data file = simulations/009/Run_baselineA1_copy/externalloads.mot (nr=991 nc=37)\n",
      "[info] .. assuming rotations in Degrees..\n",
      "[info] ExternalForce::Right Data source being set to /Users/leonlobe/Documents/GitHub/Fatigue-prediction-MSC-Thesis/simulations/009/Run_baselineA1_copy/externalloads.mot\n",
      "[info] Storage: read data file = simulations/009/Run_baselineA1_copy/IK.mot (nr=100 nc=40)\n",
      "[info] Low-pass filtering coordinates data with a cutoff frequency of 6.0...\n",
      "[info] InverseDynamicsTool: 100 time frames in 50 millisecond(s).\n",
      "[warning] Directory 'simulations/009/Run_baselineA1_copy/' was specified where only file name 'ID' is expected. The directory will be ignored. Result files will be written to directory 'simulations/009/Run_baselineA1_copy' instead.\n"
     ]
    },
    {
     "data": {
      "text/plain": [
       "True"
      ]
     },
     "execution_count": 56,
     "metadata": {},
     "output_type": "execute_result"
    }
   ],
   "source": [
    "id_tool.run()"
   ]
  },
  {
   "cell_type": "code",
   "execution_count": null,
   "metadata": {},
   "outputs": [],
   "source": []
  }
 ],
 "metadata": {
  "kernelspec": {
   "display_name": "venv_38",
   "language": "python",
   "name": "python3"
  },
  "language_info": {
   "codemirror_mode": {
    "name": "ipython",
    "version": 3
   },
   "file_extension": ".py",
   "mimetype": "text/x-python",
   "name": "python",
   "nbconvert_exporter": "python",
   "pygments_lexer": "ipython3",
   "version": "3.8.10"
  }
 },
 "nbformat": 4,
 "nbformat_minor": 2
}
